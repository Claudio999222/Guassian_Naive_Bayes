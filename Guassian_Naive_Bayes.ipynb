{
 "cells": [
  {
   "cell_type": "markdown",
   "id": "69c609a8-d786-43a7-8ab7-69f0f1cc068b",
   "metadata": {},
   "source": [
    "## In questo notebook utilizzo la Guassiana Naive Bayes che ci permette di fare previsioni in base a qualcosa che é gia accaduto \n",
    "#### Ossia la probabilità a posteriori (probabilità che un'istanza appartenga a una classe dato il vettore di feature)"
   ]
  },
  {
   "cell_type": "code",
   "execution_count": 8,
   "id": "39c43361-a155-4afb-ab97-836b177d827e",
   "metadata": {},
   "outputs": [],
   "source": [
    "import pandas as pd \n",
    "import numpy as np\n",
    "from sklearn import preprocessing \n",
    "from sklearn.naive_bayes import GaussianNB\n",
    "from sklearn.preprocessing import LabelEncoder\n",
    "from sklearn.model_selection import train_test_split\n",
    "from sklearn.metrics import accuracy_score"
   ]
  },
  {
   "cell_type": "markdown",
   "id": "123be45b-1ed3-4507-be9e-e7cabc699d85",
   "metadata": {},
   "source": [
    "#### Importo il dataset e lo normalizzo"
   ]
  },
  {
   "cell_type": "code",
   "execution_count": 9,
   "id": "2a150072-042e-4f00-80df-82bd6120ec81",
   "metadata": {},
   "outputs": [
    {
     "name": "stdout",
     "output_type": "stream",
     "text": [
      "Before label encoding\n",
      "     Outlook Temperature Humidity    Wind Play Tennis\n",
      "0      Sunny         Hot     High    Weak          No\n",
      "1      Sunny         Hot     High  Strong          No\n",
      "2   Overcast         Hot     High    Weak         Yes\n",
      "3       Rain        Mild     High    Weak         Yes\n",
      "4       Rain        Cool   Normal    Weak         Yes\n",
      "5       Rain        Cool   Normal  Strong          No\n",
      "6   Overcast        Cool   Normal  Strong         Yes\n",
      "7      Sunny        Mild     High    Weak          No\n",
      "8      Sunny        Cool   Normal    Weak         Yes\n",
      "9       Rain        Mild   Normal    Weak         Yes\n",
      "10     Sunny        Mild   Normal  Strong         Yes\n",
      "11  Overcast        Mild     High  Strong         Yes\n",
      "12  Overcast         Hot   Normal    Weak         Yes\n",
      "13      Rain        Mild     High  Strong          No\n",
      "\n",
      "After Label Encodign\n",
      "    Outlook  Temperature  Humidity  Wind  Play Tennis\n",
      "0         2            1         0     1            0\n",
      "1         2            1         0     0            0\n",
      "2         0            1         0     1            1\n",
      "3         1            2         0     1            1\n",
      "4         1            0         1     1            1\n",
      "5         1            0         1     0            0\n",
      "6         0            0         1     0            1\n",
      "7         2            2         0     1            0\n",
      "8         2            0         1     1            1\n",
      "9         1            2         1     1            1\n",
      "10        2            2         1     0            1\n",
      "11        0            2         0     0            1\n",
      "12        0            1         1     1            1\n",
      "13        1            2         0     0            0\n"
     ]
    }
   ],
   "source": [
    "dataset = pd.read_csv(r'C:\\Users\\claud\\Desktop\\Project\\MASTER CLASS MACHINE LEARNING\\moduli\\6 - Algoritmi Machine Learning\\Esercitazioni 6 modulo\\datasets\\PlayTennis.csv')\n",
    "\n",
    "le = LabelEncoder()\n",
    "print('Before label encoding')\n",
    "print(dataset)\n",
    "\n",
    "dataset['Outlook'] = le.fit_transform(dataset['Outlook'])\n",
    "dataset['Temperature'] = le.fit_transform(dataset['Temperature'])\n",
    "dataset['Humidity'] = le.fit_transform(dataset['Humidity'])\n",
    "dataset['Wind'] = le.fit_transform(dataset['Wind'])\n",
    "dataset['Play Tennis'] = le.fit_transform(dataset['Play Tennis'])\n",
    "\n",
    "print('\\nAfter Label Encodign')\n",
    "print(dataset)"
   ]
  },
  {
   "cell_type": "markdown",
   "id": "3181ec21-00dd-4fde-b1f7-705b0abab6e4",
   "metadata": {},
   "source": [
    "#### Metto il dataset sotto forma di lista per ogni riga"
   ]
  },
  {
   "cell_type": "code",
   "execution_count": 10,
   "id": "5fb38d60-528f-4fc5-8e11-3b5f7bcf6a7d",
   "metadata": {},
   "outputs": [
    {
     "name": "stdout",
     "output_type": "stream",
     "text": [
      "['Outlook', 'Temperature', 'Humidity', 'Wind'] Play Tennis\n"
     ]
    }
   ],
   "source": [
    "features = list(dataset.columns)[0:-1]\n",
    "target = list(dataset.columns)[-1:][0]\n",
    "print(features, target)"
   ]
  },
  {
   "cell_type": "markdown",
   "id": "fe116fad-ed03-429f-8e3b-c3fea191befa",
   "metadata": {},
   "source": [
    "#### Divido il dataset in train e test"
   ]
  },
  {
   "cell_type": "code",
   "execution_count": 11,
   "id": "af5021df-a219-42eb-995f-9762ef9816ca",
   "metadata": {},
   "outputs": [
    {
     "name": "stdout",
     "output_type": "stream",
     "text": [
      "    Outlook  Temperature  Humidity  Wind\n",
      "4         1            0         1     1\n",
      "7         2            2         0     1\n",
      "0         2            1         0     1\n",
      "8         2            0         1     1\n",
      "5         1            0         1     0\n",
      "1         2            1         0     0\n",
      "11        0            2         0     0\n",
      "12        0            1         1     1\n",
      "6         0            0         1     0\n"
     ]
    }
   ],
   "source": [
    "features_train, features_test, target_train, target_test = train_test_split(\n",
    "    dataset[features],\n",
    "    dataset[target],\n",
    "    test_size = 0.33\n",
    ")\n",
    "\n",
    "print(features_train)"
   ]
  },
  {
   "cell_type": "markdown",
   "id": "d530b711-70a4-48aa-af11-6c07baf72a68",
   "metadata": {},
   "source": [
    "#### Addestro il modello e nonostante sia stato addestrato su un dataset molto piccolo e con 2/3 di esso ho ottenuto un 0.6 di accuratezza"
   ]
  },
  {
   "cell_type": "code",
   "execution_count": 12,
   "id": "d899b681-6787-43af-a077-8c58fde2e10a",
   "metadata": {},
   "outputs": [
    {
     "name": "stdout",
     "output_type": "stream",
     "text": [
      "    Outlook  Temperature  Humidity  Wind\n",
      "3         1            2         0     1\n",
      "10        2            2         1     0\n",
      "2         0            1         0     1\n",
      "9         1            2         1     1\n",
      "13        1            2         0     0\n",
      "[0 0 1 1 0]\n",
      "0.6\n"
     ]
    }
   ],
   "source": [
    "gaussian_model = GaussianNB()\n",
    "gaussian_model.fit(features_train, target_train)\n",
    "\n",
    "gaussian_pred = gaussian_model.predict(features_test)\n",
    "gaussian_accuracy = accuracy_score(target_test, gaussian_pred)\n",
    "print(features_test)\n",
    "print(gaussian_pred)\n",
    "print(gaussian_accuracy)"
   ]
  },
  {
   "cell_type": "code",
   "execution_count": null,
   "id": "640701c0-4d5a-44e3-8dce-f2c51e080f99",
   "metadata": {},
   "outputs": [],
   "source": []
  }
 ],
 "metadata": {
  "kernelspec": {
   "display_name": "Python 3 (ipykernel)",
   "language": "python",
   "name": "python3"
  },
  "language_info": {
   "codemirror_mode": {
    "name": "ipython",
    "version": 3
   },
   "file_extension": ".py",
   "mimetype": "text/x-python",
   "name": "python",
   "nbconvert_exporter": "python",
   "pygments_lexer": "ipython3",
   "version": "3.11.4"
  }
 },
 "nbformat": 4,
 "nbformat_minor": 5
}
